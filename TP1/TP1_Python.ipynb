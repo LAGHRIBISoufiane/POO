{
 "cells": [
  {
   "cell_type": "code",
   "execution_count": 4,
   "metadata": {
    "colab": {
     "base_uri": "https://localhost:8080/"
    },
    "id": "mOAvZnS8wSHI",
    "outputId": "ff78c941-17a8-4c03-d6f4-270461d8b35a"
   },
   "outputs": [
    {
     "name": "stdout",
     "output_type": "stream",
     "text": [
      "La somme de la liste: 10\n"
     ]
    }
   ],
   "source": [
    "def somme_liste(list):\n",
    "\n",
    "    return sum(list)\n",
    "\n",
    "list= [1, 2, 3, 4]\n",
    "\n",
    "print(\"La somme de la liste:\", somme_liste(list))\n"
   ]
  },
  {
   "cell_type": "code",
   "execution_count": 5,
   "metadata": {
    "colab": {
     "base_uri": "https://localhost:8080/"
    },
    "id": "vDiUDLn8w74J",
    "outputId": "230c4806-8a38-4bb8-8ea4-69f2864d24ea"
   },
   "outputs": [
    {
     "name": "stdout",
     "output_type": "stream",
     "text": [
      "Le plus grand nombre dans le tuple : 6\n"
     ]
    }
   ],
   "source": [
    "def max_tuple(t):\n",
    "\n",
    "    return max(t)\n",
    "\n",
    "mtuple = (1,5,6,2)\n",
    "print(\"Le plus grand nombre dans le tuple :\", max_tuple(mtuple))\n"
   ]
  },
  {
   "cell_type": "code",
   "execution_count": 6,
   "metadata": {
    "colab": {
     "base_uri": "https://localhost:8080/"
    },
    "id": "AkRzen3wyZw7",
    "outputId": "1e9b06f8-460f-4d1f-e7ae-c6375550c7d3"
   },
   "outputs": [
    {
     "name": "stdout",
     "output_type": "stream",
     "text": [
      "L'intersection des deux ensembles: {4}\n"
     ]
    }
   ],
   "source": [
    "def intersection(ensemble1, ensemble2):\n",
    "\n",
    "  return ensemble1 & ensemble2\n",
    "\n",
    "ensemble_A = {1, 2, 3, 4}\n",
    "ensemble_B = {4, 5, 6, 7}\n",
    "print(\"L'intersection des deux ensembles:\", intersection(ensemble_A, ensemble_B))"
   ]
  },
  {
   "cell_type": "code",
   "execution_count": 7,
   "metadata": {
    "colab": {
     "base_uri": "https://localhost:8080/"
    },
    "id": "b1hk1P190I3W",
    "outputId": "5218a077-a640-4d80-b59d-440ca61338ec"
   },
   "outputs": [
    {
     "name": "stdout",
     "output_type": "stream",
     "text": [
      "Les occurrences des mots : {'Hossam': 1, 'Soufiane': 2, 'Walid': 2, 'Ahmad': 1}\n"
     ]
    }
   ],
   "source": [
    "def compte_occurences(list):\n",
    "   occurrences = {}\n",
    "   for mot in list:\n",
    "        if mot in occurrences:\n",
    "            occurrences[mot] += 1\n",
    "        else:\n",
    "            occurrences[mot] = 1\n",
    "   return occurrences\n",
    "\n",
    "test_list = [\"Hossam\", \"Soufiane\", \"Walid\", \"Ahmad\", \"Soufiane\", \"Walid\"]\n",
    "Occurence = compte_occurences(test_list)\n",
    "print(\"Les occurrences des mots :\", Occurence)"
   ]
  },
  {
   "cell_type": "code",
   "execution_count": null,
   "metadata": {
    "colab": {
     "base_uri": "https://localhost:8080/"
    },
    "id": "zcLCKJsU5AO1",
    "outputId": "33b4f3bf-098c-4b38-d26e-9c80d47e2fc2"
   },
   "outputs": [
    {
     "name": "stdout",
     "output_type": "stream",
     "text": [
      "La factorielle de 5 est : 120\n"
     ]
    }
   ],
   "source": [
    "def factorille(n):\n",
    "    if n == 0:\n",
    "        return 1\n",
    "    else:\n",
    "        result = 1\n",
    "        for i in range(1, n + 1):\n",
    "            result *= i\n",
    "        return result\n",
    "nbr = 8\n",
    "print(\"La factorielle de\", nbr, \"est :\", factorille(nbr))"
   ]
  },
  {
   "cell_type": "code",
   "execution_count": 9,
   "metadata": {
    "colab": {
     "base_uri": "https://localhost:8080/"
    },
    "id": "exbOpjs9_Gts",
    "outputId": "9ffc74ae-6df2-4665-ff29-afafc19544b5"
   },
   "outputs": [
    {
     "name": "stdout",
     "output_type": "stream",
     "text": [
      "Le carre de 5 est : 25\n"
     ]
    }
   ],
   "source": [
    "carre = lambda x: x ** 2\n",
    "\n",
    "nbr = 5\n",
    "result = carre(nbr)\n",
    "print(\"Le carre de\", nbr, \"est :\", result)\n"
   ]
  },
  {
   "cell_type": "code",
   "execution_count": 10,
   "metadata": {
    "colab": {
     "base_uri": "https://localhost:8080/"
    },
    "id": "ROmy9hl7O7Cf",
    "outputId": "8f8705c5-93c2-4ef6-ac61-4cc344f0c389"
   },
   "outputs": [
    {
     "name": "stdout",
     "output_type": "stream",
     "text": [
      "Somme 1 : 15\n",
      "Somme 2 : 62.3\n"
     ]
    }
   ],
   "source": [
    "def somme_varargs(*args):\n",
    "    return sum(args)\n",
    "\n",
    "test1 = somme_varargs(1, 2, 3, 4, 5)\n",
    "test2 = somme_varargs(15.1, 18.5, 28.7)\n",
    "print(\"Somme 1 :\", test1)\n",
    "print(\"Somme 2 :\", test2)"
   ]
  },
  {
   "cell_type": "code",
   "execution_count": 11,
   "metadata": {
    "colab": {
     "base_uri": "https://localhost:8080/"
    },
    "id": "zOc2ztpqP_F-",
    "outputId": "91fd0fee-a2c8-4599-8a35-42115649013e"
   },
   "outputs": [
    {
     "name": "stdout",
     "output_type": "stream",
     "text": [
      "Analyse du texte : {'nombre_mots': 6, 'nombre_characters': 29}\n"
     ]
    }
   ],
   "source": [
    "def analyse_texte(texte):\n",
    "    nbr_mot = len(texte.split())\n",
    "    nbr_characters = len(texte)\n",
    "    return{\"nombre_mots\": nbr_mot,  \"nombre_characters\": nbr_characters}\n",
    "\n",
    "texte = \"Cut the last breath from them\"\n",
    "test = analyse_texte(texte)\n",
    "print(\"Analyse du texte :\", test)"
   ]
  },
  {
   "cell_type": "code",
   "execution_count": 12,
   "metadata": {
    "colab": {
     "base_uri": "https://localhost:8080/"
    },
    "id": "-h99am2ZRH4_",
    "outputId": "5b6b02df-3d2b-42de-fcf0-34cf852b5634"
   },
   "outputs": [
    {
     "name": "stdout",
     "output_type": "stream",
     "text": [
      "Dictionnaire fusion : {'a': 15, 'b': 35, 'c': 30, 'd': 10}\n"
     ]
    }
   ],
   "source": [
    "def fusionner_dicts(dict1, dict2):\n",
    "    fusion = dict1.copy()\n",
    "    for cle, valeur in dict2.items():\n",
    "        if cle in fusion:\n",
    "            fusion[cle] += valeur\n",
    "        else:\n",
    "            fusion[cle] = valeur\n",
    "    return fusion\n",
    "\n",
    "dict1 = {'a': 10, 'b': 15, 'c': 30}\n",
    "dict2 = {'a': 5, 'd': 10, 'b': 20}\n",
    "print(\"Dictionnaire fusion :\", fusionner_dicts(dict1, dict2))\n"
   ]
  }
 ],
 "metadata": {
  "colab": {
   "provenance": []
  },
  "kernelspec": {
   "display_name": "Python 3",
   "name": "python3"
  },
  "language_info": {
   "codemirror_mode": {
    "name": "ipython",
    "version": 3
   },
   "file_extension": ".py",
   "mimetype": "text/x-python",
   "name": "python",
   "nbconvert_exporter": "python",
   "pygments_lexer": "ipython3",
   "version": "3.11.9"
  }
 },
 "nbformat": 4,
 "nbformat_minor": 0
}
